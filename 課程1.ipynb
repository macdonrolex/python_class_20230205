{
  "nbformat": 4,
  "nbformat_minor": 0,
  "metadata": {
    "colab": {
      "provenance": [],
      "toc_visible": true,
      "authorship_tag": "ABX9TyMY86TBSc3lv0Fg32G785VZ",
      "include_colab_link": true
    },
    "kernelspec": {
      "name": "python3",
      "display_name": "Python 3"
    },
    "language_info": {
      "name": "python"
    }
  },
  "cells": [
    {
      "cell_type": "markdown",
      "metadata": {
        "id": "view-in-github",
        "colab_type": "text"
      },
      "source": [
        "<a href=\"https://colab.research.google.com/github/macdonrolex/python_class_20230205/blob/main/%E8%AA%B2%E7%A8%8B1.ipynb\" target=\"_parent\"><img src=\"https://colab.research.google.com/assets/colab-badge.svg\" alt=\"Open In Colab\"/></a>"
      ]
    },
    {
      "cell_type": "markdown",
      "source": [
        "#20230205-1\n",
        "\n"
      ],
      "metadata": {
        "id": "LGvDtg97sf6V"
      }
    },
    {
      "cell_type": "markdown",
      "source": [
        "## Markdown 語法說明\n",
        "\n",
        "# 最大標題\n",
        "\n",
        "## 次大標題\n",
        "\n",
        "### 次次大標題\n",
        "\n",
        "* 項目符號\n",
        "\n",
        "[連結](https://www.apple.com/tw/shop/gifts/chinese-new-year)\n",
        "\n"
      ],
      "metadata": {
        "id": "-6jZ3_YohMg5"
      }
    },
    {
      "cell_type": "markdown",
      "source": [
        "## 變數\n",
        "\n",
        "變數有區分大小寫\n",
        "\n",
        "開頭不能是數字\n",
        "\n"
      ],
      "metadata": {
        "id": "uSBhqMD6-Iu6"
      }
    },
    {
      "cell_type": "code",
      "source": [
        "x = 1\n",
        "id(x)\n",
        "\n"
      ],
      "metadata": {
        "colab": {
          "base_uri": "https://localhost:8080/"
        },
        "id": "dm3F6KSt-Mej",
        "outputId": "4431a576-7182-4a93-d4a5-01349d5c1b15"
      },
      "execution_count": null,
      "outputs": [
        {
          "output_type": "execute_result",
          "data": {
            "text/plain": [
              "9793088"
            ]
          },
          "metadata": {},
          "execution_count": 11
        }
      ]
    },
    {
      "cell_type": "markdown",
      "source": [
        "## 基本資料型態\n",
        "\n",
        "\n",
        "\n",
        "\n",
        "*   int\n",
        "*   float\n",
        "*   bool\n",
        "*   str\n",
        "\n",
        "\n",
        "\n"
      ],
      "metadata": {
        "id": "ojMTOTYuuMgx"
      }
    },
    {
      "cell_type": "code",
      "source": [
        "x = 1 \n",
        "print(f\"The type of x is :{type(x)}\")\n",
        "\n",
        "w = \"dog\"\n",
        "type(w)"
      ],
      "metadata": {
        "id": "b6cSEQkIslp8",
        "colab": {
          "base_uri": "https://localhost:8080/"
        },
        "outputId": "9627caff-3228-456d-ed71-8cba2543cb16"
      },
      "execution_count": null,
      "outputs": [
        {
          "output_type": "stream",
          "name": "stdout",
          "text": [
            "The type of x is :<class 'int'>\n"
          ]
        },
        {
          "output_type": "execute_result",
          "data": {
            "text/plain": [
              "str"
            ]
          },
          "metadata": {},
          "execution_count": 14
        }
      ]
    },
    {
      "cell_type": "markdown",
      "source": [
        "## line notifiy 相關應用\n",
        "\n",
        "傳訊息給自己\n",
        "\n",
        "* [申請token](https://notify-bot.line.me/en/)\n",
        "* [貼紙列表](https://github.com/victorgau/khpy_linenotify_intro/raw/main/misc/sticker_list.pdf)\n",
        "* [Line Notify Help](https://help2.line.me/line_notify/web/pc?lang=zh-Hant)\n",
        "* [Line Notify API Documentation]()"
      ],
      "metadata": {
        "id": "jwTnIxubD8HZ"
      }
    },
    {
      "cell_type": "code",
      "source": [
        "#從 github 將 linenotify.py 下載到 colab 裡面來\n",
        "!wget https://raw.githubusercontent.com/victorgau/khpy_linenotify_intro/main/py/linenotify.py\n",
        "from linenotify import Notify\n",
        "\n",
        "#curl -o 來在終端機下載到自己的電腦"
      ],
      "metadata": {
        "id": "ro0hrfJlEihe"
      },
      "execution_count": null,
      "outputs": []
    },
    {
      "cell_type": "code",
      "source": [
        "#傳送文字\n",
        "token = \"t4IYSHDjxVgVK1hTi3gA54Z7y6PqMtcYQAS8RQUqkKd\"\n",
        "Notify(token, \"你好\" )"
      ],
      "metadata": {
        "colab": {
          "base_uri": "https://localhost:8080/"
        },
        "id": "vHGTk78cGDea",
        "outputId": "2fc938dc-34f9-4c6f-e298-f69c1e4097a7"
      },
      "execution_count": null,
      "outputs": [
        {
          "output_type": "execute_result",
          "data": {
            "text/plain": [
              "<Response [200]>"
            ]
          },
          "metadata": {},
          "execution_count": 21
        }
      ]
    },
    {
      "cell_type": "code",
      "source": [
        "#傳送貼圖\n",
        "token = \"t4IYSHDjxVgVK1hTi3gA54Z7y6PqMtcYQAS8RQUqkKd\"\n",
        "Notify(token, \"貼圖\", 1, 3)"
      ],
      "metadata": {
        "colab": {
          "base_uri": "https://localhost:8080/"
        },
        "id": "naVQHbxjIKP-",
        "outputId": "d36e0231-500e-4673-c077-b758baafe936"
      },
      "execution_count": null,
      "outputs": [
        {
          "output_type": "execute_result",
          "data": {
            "text/plain": [
              "<Response [200]>"
            ]
          },
          "metadata": {},
          "execution_count": 22
        }
      ]
    },
    {
      "cell_type": "code",
      "source": [
        "#傳送圖片\n",
        "token = \"t4IYSHDjxVgVK1hTi3gA54Z7y6PqMtcYQAS8RQUqkKd\"\n",
        "Notify(token,\"還敢下來啊\", 1, 5, \"setsuna.jpeg\")"
      ],
      "metadata": {
        "colab": {
          "base_uri": "https://localhost:8080/"
        },
        "id": "xU2xpyJhP6YY",
        "outputId": "6e0ccd11-55a8-4e86-adbe-2a80faa47678"
      },
      "execution_count": null,
      "outputs": [
        {
          "output_type": "execute_result",
          "data": {
            "text/plain": [
              "<Response [200]>"
            ]
          },
          "metadata": {},
          "execution_count": 27
        }
      ]
    },
    {
      "cell_type": "code",
      "source": [
        "#詳細資料\n",
        "r = Notify(token,\"還敢下來啊\", 1, 5, \"setsuna.jpeg\")\n",
        "r.headers"
      ],
      "metadata": {
        "colab": {
          "base_uri": "https://localhost:8080/"
        },
        "id": "H1rHIcpBT52p",
        "outputId": "08064f33-d87f-439a-8bc1-118d6621d9f5"
      },
      "execution_count": null,
      "outputs": [
        {
          "output_type": "execute_result",
          "data": {
            "text/plain": [
              "{'Server': 'nginx', 'Date': 'Sun, 05 Feb 2023 06:42:48 GMT', 'Content-Type': 'application/json', 'Transfer-Encoding': 'chunked', 'Keep-Alive': 'timeout=9', 'Vary': 'Accept-Encoding', 'X-RateLimit-Limit': '1000', 'X-RateLimit-ImageLimit': '50', 'X-RateLimit-Remaining': '992', 'X-RateLimit-ImageRemaining': '47', 'X-RateLimit-Reset': '1675579803', 'X-Robots-Tag': 'noindex, nofollow, nosnippet, noarchive', 'Content-Encoding': 'gzip'}"
            ]
          },
          "metadata": {},
          "execution_count": 28
        }
      ]
    },
    {
      "cell_type": "markdown",
      "source": [
        "## 基本的容器型態型態\n",
        "* ( )tuple\n",
        "* [ ]list\n",
        "* { : }dict\n",
        "* { }set"
      ],
      "metadata": {
        "id": "4fZV79iFgyqZ"
      }
    },
    {
      "cell_type": "code",
      "source": [
        "s = \"\"\"{\n",
        "  \"firstName\": \"John\",\n",
        "  \"lastName\": \"Smith\",\n",
        "  \"isAlive\": true,\n",
        "  \"age\": 27,\n",
        "  \"address\": {\n",
        "    \"streetAddress\": \"21 2nd Street\",\n",
        "    \"city\": \"New York\",\n",
        "    \"state\": \"NY\",\n",
        "    \"postalCode\": \"10021-3100\"\n",
        "  },\n",
        "  \"phoneNumbers\": [\n",
        "    {\n",
        "      \"type\": \"home\",\n",
        "      \"number\": \"212 555-1234\"\n",
        "    },\n",
        "    {\n",
        "      \"type\": \"office\",\n",
        "      \"number\": \"646 555-4567\"\n",
        "    }\n",
        "  ],\n",
        "  \"children\": [\n",
        "      \"Catherine\",\n",
        "      \"Thomas\",\n",
        "      \"Trevor\"\n",
        "  ],\n",
        "  \"spouse\": null\n",
        "}\"\"\"\n",
        "import json\n",
        "data = json.loads(s)\n",
        "data"
      ],
      "metadata": {
        "colab": {
          "base_uri": "https://localhost:8080/"
        },
        "id": "G4WzPO0Yify5",
        "outputId": "cae1267a-c4d4-4527-b397-375771a15bb5"
      },
      "execution_count": null,
      "outputs": [
        {
          "output_type": "execute_result",
          "data": {
            "text/plain": [
              "{'firstName': 'John',\n",
              " 'lastName': 'Smith',\n",
              " 'isAlive': True,\n",
              " 'age': 27,\n",
              " 'address': {'streetAddress': '21 2nd Street',\n",
              "  'city': 'New York',\n",
              "  'state': 'NY',\n",
              "  'postalCode': '10021-3100'},\n",
              " 'phoneNumbers': [{'type': 'home', 'number': '212 555-1234'},\n",
              "  {'type': 'office', 'number': '646 555-4567'}],\n",
              " 'children': ['Catherine', 'Thomas', 'Trevor'],\n",
              " 'spouse': None}"
            ]
          },
          "metadata": {},
          "execution_count": 32
        }
      ]
    },
    {
      "cell_type": "code",
      "source": [
        "data[\"phoneNumbers\"]"
      ],
      "metadata": {
        "colab": {
          "base_uri": "https://localhost:8080/"
        },
        "id": "NmmNkWisjZJq",
        "outputId": "defbb0dc-063e-42a8-aa87-58767c2119ae"
      },
      "execution_count": null,
      "outputs": [
        {
          "output_type": "execute_result",
          "data": {
            "text/plain": [
              "[{'type': 'home', 'number': '212 555-1234'},\n",
              " {'type': 'office', 'number': '646 555-4567'}]"
            ]
          },
          "metadata": {},
          "execution_count": 33
        }
      ]
    },
    {
      "cell_type": "code",
      "source": [
        "type(data[\"phoneNumbers\"])"
      ],
      "metadata": {
        "colab": {
          "base_uri": "https://localhost:8080/"
        },
        "id": "pEvk9KtokJvF",
        "outputId": "093f08a6-1f2c-45f3-bcce-c4edbb395942"
      },
      "execution_count": null,
      "outputs": [
        {
          "output_type": "execute_result",
          "data": {
            "text/plain": [
              "list"
            ]
          },
          "metadata": {},
          "execution_count": 39
        }
      ]
    },
    {
      "cell_type": "code",
      "source": [
        "type(data[\"phoneNumbers\"][0])"
      ],
      "metadata": {
        "id": "Szh-YlKdkW2y",
        "outputId": "94626608-80e8-4b0c-b513-050d5a7d7119",
        "colab": {
          "base_uri": "https://localhost:8080/"
        }
      },
      "execution_count": null,
      "outputs": [
        {
          "output_type": "execute_result",
          "data": {
            "text/plain": [
              "dict"
            ]
          },
          "metadata": {},
          "execution_count": 38
        }
      ]
    },
    {
      "cell_type": "code",
      "source": [
        "data[\"phoneNumbers\"][0][\"number\"]\n"
      ],
      "metadata": {
        "colab": {
          "base_uri": "https://localhost:8080/",
          "height": 35
        },
        "id": "aQ_Q4Pndj3m-",
        "outputId": "a655cb1d-c4a8-4def-eccb-8625eea85060"
      },
      "execution_count": null,
      "outputs": [
        {
          "output_type": "execute_result",
          "data": {
            "text/plain": [
              "'212 555-1234'"
            ],
            "application/vnd.google.colaboratory.intrinsic+json": {
              "type": "string"
            }
          },
          "metadata": {},
          "execution_count": 34
        }
      ]
    }
  ]
}